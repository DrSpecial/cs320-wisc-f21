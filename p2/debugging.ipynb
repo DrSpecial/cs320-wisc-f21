{
 "cells": [
  {
   "cell_type": "code",
   "execution_count": 102,
   "id": "29bddb27",
   "metadata": {},
   "outputs": [
    {
     "name": "stdout",
     "output_type": "stream",
     "text": [
      "The autoreload extension is already loaded. To reload it, use:\n",
      "  %reload_ext autoreload\n"
     ]
    }
   ],
   "source": [
    "from tree import *\n",
    "import pprint\n",
    "%load_ext autoreload\n",
    "%autoreload 2"
   ]
  },
  {
   "cell_type": "code",
   "execution_count": 3,
   "id": "55a93094",
   "metadata": {},
   "outputs": [],
   "source": [
    "tree_reader = ZippedCSVReader(\"trees.zip\")\n",
    "data_reader = ZippedCSVReader(\"mini.zip\")\n"
   ]
  },
  {
   "cell_type": "code",
   "execution_count": 4,
   "id": "31306e58",
   "metadata": {},
   "outputs": [
    {
     "data": {
      "text/plain": [
       "['il.csv', 'la.csv', 'wi.csv']"
      ]
     },
     "execution_count": 4,
     "metadata": {},
     "output_type": "execute_result"
    }
   ],
   "source": [
    "data_reader.path"
   ]
  },
  {
   "cell_type": "code",
   "execution_count": 44,
   "id": "f76a50a4",
   "metadata": {},
   "outputs": [
    {
     "name": "stdout",
     "output_type": "stream",
     "text": [
      "{'action_taken': '1',\n",
      " 'action_taken_name': 'Loan originated',\n",
      " 'agency_abbr': 'HUD',\n",
      " 'agency_code': '7',\n",
      " 'agency_name': 'Department of Housing and Urban Development',\n",
      " 'applicant_ethnicity': '2',\n",
      " 'applicant_ethnicity_name': 'Not Hispanic or Latino',\n",
      " 'applicant_income_000s': '57',\n",
      " 'applicant_race_1': '5',\n",
      " 'applicant_race_2': '',\n",
      " 'applicant_race_3': '',\n",
      " 'applicant_race_name_1': 'White',\n",
      " 'applicant_race_name_2': '',\n",
      " 'applicant_race_name_3': '',\n",
      " 'applicant_sex': '1',\n",
      " 'applicant_sex_name': 'Male',\n",
      " 'as_of_year': '2017',\n",
      " 'co_applicant_ethnicity': '2',\n",
      " 'co_applicant_ethnicity_name': 'Not Hispanic or Latino',\n",
      " 'co_applicant_race_1': '5',\n",
      " 'co_applicant_race_2': '',\n",
      " 'co_applicant_race_name_1': 'White',\n",
      " 'co_applicant_race_name_2': '',\n",
      " 'co_applicant_sex': '2',\n",
      " 'co_applicant_sex_name': 'Female',\n",
      " 'county_code': '87.0',\n",
      " 'county_name': 'Outagamie County',\n",
      " 'denial_reason_1': '',\n",
      " 'denial_reason_2': '',\n",
      " 'denial_reason_name_1': '',\n",
      " 'denial_reason_name_2': '',\n",
      " 'hud_median_family_income': '74700',\n",
      " 'loan_amount_000s': '165',\n",
      " 'loan_purpose': '3',\n",
      " 'loan_purpose_name': 'Refinancing',\n",
      " 'loan_type': '3',\n",
      " 'loan_type_name': 'VA-guaranteed',\n",
      " 'minority_population': '24',\n",
      " 'owner_occupancy': '1',\n",
      " 'owner_occupancy_name': 'Owner-occupied as a principal dwelling',\n",
      " 'population': '5765.0',\n",
      " 'preapproval': '3',\n",
      " 'preapproval_name': 'Not applicable',\n",
      " 'property_type': '1',\n",
      " 'property_type_name': 'One-to-four family dwelling (other than manufactured '\n",
      "                       'housing)',\n",
      " 'purchaser_type': '7',\n",
      " 'purchaser_type_name': 'Life insurance company, credit union, mortgage bank, '\n",
      "                        'or finance company',\n",
      " 'respondent_id': '33-0975529',\n",
      " 'state_abbr': 'WI',\n",
      " 'state_code': '55',\n",
      " 'state_name': 'Wisconsin'}\n",
      "20\n"
     ]
    }
   ],
   "source": [
    "dict_list = list(data_reader.rows(\"wi.csv\"))\n",
    "pprint.pprint(dict_list[0])\n",
    "print(len(dict_list))"
   ]
  },
  {
   "cell_type": "code",
   "execution_count": 6,
   "id": "596b7f53",
   "metadata": {
    "scrolled": true
   },
   "outputs": [
    {
     "name": "stdout",
     "output_type": "stream",
     "text": [
      "60\n"
     ]
    }
   ],
   "source": [
    "dict_generator = data_reader.rows()\n",
    "print(sum(1 for _ in dict_generator))"
   ]
  },
  {
   "cell_type": "code",
   "execution_count": 34,
   "id": "b45656fd",
   "metadata": {},
   "outputs": [],
   "source": [
    "loan = Loan(40, \"Home improvement\", \"Asian\", \"Male\", 120, \"approve\")"
   ]
  },
  {
   "cell_type": "code",
   "execution_count": 35,
   "id": "e82b36da",
   "metadata": {},
   "outputs": [
    {
     "data": {
      "text/plain": [
       "\"Loan(40, 'Home improvement', 'Asian', 'Male', 120, 'approve')\""
      ]
     },
     "execution_count": 35,
     "metadata": {},
     "output_type": "execute_result"
    }
   ],
   "source": [
    "repr(loan)"
   ]
  },
  {
   "cell_type": "code",
   "execution_count": 41,
   "id": "e50cc226",
   "metadata": {},
   "outputs": [
    {
     "data": {
      "text/plain": [
       "1"
      ]
     },
     "execution_count": 41,
     "metadata": {},
     "output_type": "execute_result"
    }
   ],
   "source": [
    "loan['amount']\n",
    "loan['purpose']\n",
    "loan[120]"
   ]
  },
  {
   "cell_type": "code",
   "execution_count": 68,
   "id": "72cdd308",
   "metadata": {},
   "outputs": [
    {
     "data": {
      "text/plain": [
       "['CFPB', 'FDIC', 'FRS', 'HUD', 'NCUA', 'OCC']"
      ]
     },
     "execution_count": 68,
     "metadata": {},
     "output_type": "execute_result"
    }
   ],
   "source": [
    "reader = ZippedCSVReader('loans.zip')\n",
    "names = get_bank_names(reader) # should be sorted alphabetically\n",
    "names"
   ]
  },
  {
   "cell_type": "code",
   "execution_count": 69,
   "id": "ebd43cad",
   "metadata": {},
   "outputs": [
    {
     "name": "stdout",
     "output_type": "stream",
     "text": [
      "Loan(94, 'Refinancing', 'Information not provided by applicant in mail, Internet, or telephone application', 'Information not provided by applicant in mail, Internet, or telephone application', 71, 'deny')\n",
      "Loan(55, 'Home purchase', 'White', 'Male', 41, 'deny')\n",
      "Loan(20, 'Refinancing', 'Black or African American', 'Female', 41, 'deny')\n",
      "Loan(22, 'Refinancing', 'White', 'Male', 36, 'deny')\n",
      "Loan(175, 'Refinancing', 'White', 'Male', 70, 'deny')\n",
      "Loan(191, 'Home purchase', 'Information not provided by applicant in mail, Internet, or telephone application', 'Information not provided by applicant in mail, Internet, or telephone application', 68, 'deny')\n",
      "Loan(82, 'Refinancing', 'White', 'Male', 40, 'deny')\n"
     ]
    }
   ],
   "source": [
    "b = Bank(\"NCUA\", data_reader)\n",
    "for loan in b.loans():\n",
    "    print(loan) # loan is of type Loan"
   ]
  },
  {
   "cell_type": "code",
   "execution_count": 74,
   "id": "0df486c1",
   "metadata": {},
   "outputs": [
    {
     "name": "stdout",
     "output_type": "stream",
     "text": [
      "Loan(175, 'Refinancing', 'White', 'Male', 70, 'approve') predict: True\n",
      "approved: 1 denied 0\n",
      "Loan(145, 'Home purchase', 'White', 'Female', 37, 'deny') predict: False\n",
      "approved: 1 denied 1\n",
      "Loan(200, 'Home purchase', 'White', 'Male', 95, 'approve') predict: False\n",
      "approved: 1 denied 2\n",
      "Loan(414, 'Home purchase', 'White', 'Female', 300, 'approve') predict: False\n",
      "approved: 1 denied 3\n",
      "Loan(22, 'Refinancing', 'White', 'Female', 36, '1') predict: True\n",
      "approved: 2 denied 3\n"
     ]
    }
   ],
   "source": [
    "spred = SimplePredictor()\n",
    "my_loans = [Loan(175, 'Refinancing', 'White', 'Male', 70, 'approve'),\n",
    "            Loan(145, 'Home purchase', 'White', 'Female', 37, 'deny'),\n",
    "            Loan(200, 'Home purchase', 'White', 'Male', 95, 'approve'),\n",
    "            Loan(414, 'Home purchase', 'White', 'Female', 300, 'approve'),\n",
    "            Loan(22, 'Refinancing', 'White', 'Female', 36, '1')]\n",
    "\n",
    "for loan in my_loans:\n",
    "    print(loan, 'predict:', spred.predict(loan))\n",
    "    print('approved:', spred.get_approved(), 'denied', spred.get_denied())\n"
   ]
  },
  {
   "cell_type": "code",
   "execution_count": 103,
   "id": "fa675e69",
   "metadata": {},
   "outputs": [
    {
     "name": "stdout",
     "output_type": "stream",
     "text": [
      "income <= 50\n",
      "  class=0\n",
      "  class=1\n"
     ]
    }
   ],
   "source": [
    "leaf1 = Node(field=\"class\", threshold=0, left=None, right=None)\n",
    "leaf2 = Node(field=\"class\", threshold=1, left=None, right=None)\n",
    "root = Node(field=\"income\", threshold=50, left=leaf1, right=leaf2)\n",
    "root.dump()\n"
   ]
  },
  {
   "cell_type": "code",
   "execution_count": 104,
   "id": "867aa018",
   "metadata": {},
   "outputs": [
    {
     "data": {
      "text/plain": [
       "[{'field': 'amount', 'threshold': '200', 'left': '1', 'right': '2'},\n",
       " {'field': 'income', 'threshold': '35', 'left': '3', 'right': '4'},\n",
       " {'field': 'income', 'threshold': '70', 'left': '5', 'right': '6'},\n",
       " {'field': 'class', 'threshold': '0', 'left': '-1', 'right': '-1'},\n",
       " {'field': 'class', 'threshold': '1', 'left': '-1', 'right': '-1'},\n",
       " {'field': 'class', 'threshold': '0', 'left': '-1', 'right': '-1'},\n",
       " {'field': 'class', 'threshold': '1', 'left': '-1', 'right': '-1'}]"
      ]
     },
     "execution_count": 104,
     "metadata": {},
     "output_type": "execute_result"
    }
   ],
   "source": [
    "node_rows = list(tree_reader.rows(\"simple.csv\"))\n",
    "node_rows\n"
   ]
  },
  {
   "cell_type": "code",
   "execution_count": 105,
   "id": "7b54799f",
   "metadata": {},
   "outputs": [
    {
     "name": "stdout",
     "output_type": "stream",
     "text": [
      "amount <= 200\n",
      "  income <= 35\n",
      "    class=0\n",
      "    class=1\n",
      "  income <= 70\n",
      "    class=0\n",
      "    class=1\n"
     ]
    }
   ],
   "source": [
    "root = build_tree(node_rows)\n",
    "root.dump()\n"
   ]
  },
  {
   "cell_type": "code",
   "execution_count": 109,
   "id": "8c325140",
   "metadata": {},
   "outputs": [
    {
     "data": {
      "text/plain": [
       "7"
      ]
     },
     "execution_count": 109,
     "metadata": {},
     "output_type": "execute_result"
    }
   ],
   "source": [
    "root.node_count()"
   ]
  },
  {
   "cell_type": "code",
   "execution_count": 110,
   "id": "aa7069d8",
   "metadata": {},
   "outputs": [
    {
     "data": {
      "text/plain": [
       "61"
      ]
     },
     "execution_count": 110,
     "metadata": {},
     "output_type": "execute_result"
    }
   ],
   "source": [
    "tree_reader = ZippedCSVReader(\"trees.zip\")\n",
    "dt = build_tree(list(tree_reader.rows(\"good.csv\")))\n",
    "dt.node_count()\n"
   ]
  },
  {
   "cell_type": "code",
   "execution_count": 111,
   "id": "460a4eb6",
   "metadata": {},
   "outputs": [
    {
     "name": "stdout",
     "output_type": "stream",
     "text": [
      "amount <= 146.5\n",
      "  income <= 120.36\n",
      "    income <= 31.5\n",
      "      amount <= 63.5\n",
      "        Refinancing <= 0.5\n",
      "          class=0\n",
      "          class=0\n",
      "        income <= 17.5\n",
      "          class=0\n",
      "          class=0\n",
      "      amount <= 92.5\n",
      "        amount <= 3.5\n",
      "          class=0\n",
      "          class=0\n",
      "        Home purchase <= 0.5\n",
      "          class=0\n",
      "          class=1\n",
      "    income <= 121.5\n",
      "      Home purchase <= 0.5\n",
      "        amount <= 48.5\n",
      "          class=0\n",
      "          class=0\n",
      "        amount <= 89.5\n",
      "          class=0\n",
      "          class=0\n",
      "      income <= 424.5\n",
      "        amount <= 35.5\n",
      "          class=1\n",
      "          class=0\n",
      "        class=1\n",
      "  income <= 119.5\n",
      "    Refinancing <= 0.5\n",
      "      income <= 53.5\n",
      "        income <= 30.5\n",
      "          class=0\n",
      "          class=1\n",
      "        income <= 55.5\n",
      "          class=1\n",
      "          class=1\n",
      "      income <= 54.5\n",
      "        income <= 13.0\n",
      "          class=0\n",
      "          class=0\n",
      "        amount <= 465.5\n",
      "          class=1\n",
      "          class=0\n",
      "    income <= 120.86\n",
      "      Home purchase <= 0.5\n",
      "        Refinancing <= 0.5\n",
      "          class=1\n",
      "          class=0\n",
      "        amount <= 658.5\n",
      "          class=0\n",
      "          class=1\n",
      "      amount <= 326.5\n",
      "        Home purchase <= 0.5\n",
      "          class=1\n",
      "          class=1\n",
      "        amount <= 727.5\n",
      "          class=1\n",
      "          class=1\n"
     ]
    }
   ],
   "source": [
    "dt.dump()"
   ]
  }
 ],
 "metadata": {
  "kernelspec": {
   "display_name": "Python 3 (ipykernel)",
   "language": "python",
   "name": "python3"
  },
  "language_info": {
   "codemirror_mode": {
    "name": "ipython",
    "version": 3
   },
   "file_extension": ".py",
   "mimetype": "text/x-python",
   "name": "python",
   "nbconvert_exporter": "python",
   "pygments_lexer": "ipython3",
   "version": "3.8.10"
  }
 },
 "nbformat": 4,
 "nbformat_minor": 5
}
